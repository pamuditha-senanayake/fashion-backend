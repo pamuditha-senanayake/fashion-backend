{
 "cells": [
  {
   "cell_type": "code",
   "id": "initial_id",
   "metadata": {
    "collapsed": true,
    "ExecuteTime": {
     "end_time": "2025-09-26T04:01:06.058924Z",
     "start_time": "2025-09-26T04:01:06.011356Z"
    }
   },
   "source": [
    "import pandas as pd\n",
    "import numpy as np\n",
    "from sqlalchemy import create_engine\n",
    "from sklearn.ensemble import RandomForestRegressor\n",
    "import random\n",
    "\n",
    "# Database connection\n",
    "DB_USER = \"pamudithasenanayake\"\n",
    "DB_PASS = \"123\"\n",
    "DB_HOST = \"localhost\"\n",
    "DB_NAME = \"fashionsite\"\n",
    "\n",
    "engine = create_engine(f\"postgresql+psycopg2://{DB_USER}:{DB_PASS}@{DB_HOST}/{DB_NAME}\")\n"
   ],
   "outputs": [],
   "execution_count": 91
  },
  {
   "metadata": {
    "ExecuteTime": {
     "end_time": "2025-09-26T04:01:06.085683Z",
     "start_time": "2025-09-26T04:01:06.073151Z"
    }
   },
   "cell_type": "code",
   "source": [
    "def fetch_fashion_data_tool(limit=100):\n",
    "    print(\"[DataAgent] Fetching fashion data from DB...\")\n",
    "    df = pd.read_sql(f\"SELECT * FROM synthetic_fashion_trends ORDER BY timestamp DESC LIMIT {limit}\", engine)\n",
    "    df['hashtags'] = df['hashtags'].apply(lambda x: list(x) if x else [])\n",
    "    df['tags'] = df['tags'].apply(lambda x: list(x) if x else [])\n",
    "    df['trend_score'] = df['trend_score'] + np.random.uniform(-0.05, 0.05, size=len(df))\n",
    "    df['trend_score'] = df['trend_score'].clip(0, 1)\n",
    "    return df\n"
   ],
   "id": "44fcba46fc2dd6f5",
   "outputs": [],
   "execution_count": 92
  },
  {
   "metadata": {
    "ExecuteTime": {
     "end_time": "2025-09-26T04:01:06.108301Z",
     "start_time": "2025-09-26T04:01:06.099619Z"
    }
   },
   "cell_type": "code",
   "source": [
    "class TrendPredictorAgent:\n",
    "    def __init__(self):\n",
    "        self.model = RandomForestRegressor(n_estimators=50, random_state=42)\n",
    "\n",
    "    def train(self, df):\n",
    "        print(\"[ScorePredictorAgent] Training trend predictor...\")\n",
    "        df['content_length'] = df['content'].str.len()\n",
    "        df['num_hashtags'] = df['hashtags'].apply(len)\n",
    "        df['num_tags'] = df['tags'].apply(len)\n",
    "        features = ['likes', 'shares', 'comments', 'content_length', 'num_hashtags', 'num_tags']\n",
    "        self.model.fit(df[features], df['trend_score'])\n",
    "        return self\n",
    "\n",
    "\n",
    "def predict_missing_scores_tool(df, predictor):\n",
    "    print(\"[ScorePredictorAgent] Predicting missing trend scores...\")\n",
    "    mask = df['trend_score'].isnull()\n",
    "    if mask.sum() > 0:\n",
    "        df_missing = df[mask].copy()\n",
    "        df_missing['content_length'] = df_missing['content'].str.len()\n",
    "        df_missing['num_hashtags'] = df_missing['hashtags'].apply(len)\n",
    "        df_missing['num_tags'] = df_missing['tags'].apply(len)\n",
    "        features = ['likes', 'shares', 'comments', 'content_length', 'num_hashtags', 'num_tags']\n",
    "        df.loc[mask, 'trend_score'] = predictor.model.predict(df_missing[features])\n",
    "    df['predicted_trend_score'] = df['trend_score']\n",
    "    return df\n"
   ],
   "id": "5c1a3a6ba43de53a",
   "outputs": [],
   "execution_count": 93
  },
  {
   "metadata": {
    "ExecuteTime": {
     "end_time": "2025-09-26T04:01:06.124186Z",
     "start_time": "2025-09-26T04:01:06.116402Z"
    }
   },
   "cell_type": "code",
   "source": [
    "class ForecastAgent:\n",
    "    def __init__(self):\n",
    "        self.model = RandomForestRegressor(n_estimators=50, random_state=42)\n",
    "\n",
    "    def prepare_features(self, df):\n",
    "        df = df.sort_values(by=['trend_name', 'timestamp'])\n",
    "        df['prev_score'] = df.groupby('trend_name')['trend_score'].shift(1)\n",
    "        df['prev_score2'] = df.groupby('trend_name')['trend_score'].shift(2)\n",
    "        df['prev_score3'] = df.groupby('trend_name')['trend_score'].shift(3)\n",
    "        df['rolling_mean'] = df.groupby('trend_name')['trend_score'].transform(\n",
    "            lambda x: x.rolling(3, min_periods=1).mean())\n",
    "        df['rolling_std'] = df.groupby('trend_name')['trend_score'].transform(\n",
    "            lambda x: x.rolling(3, min_periods=1).std().fillna(0))\n",
    "        df = df.fillna(0)\n",
    "        return df\n",
    "\n",
    "\n",
    "def train_forecast_tool(df, agent):\n",
    "    print(\"[ForecasterAgent] Training forecast model...\")\n",
    "    df = agent.prepare_features(df)\n",
    "    features = ['prev_score', 'prev_score2', 'prev_score3', 'likes', 'shares', 'comments', 'rolling_mean',\n",
    "                'rolling_std']\n",
    "    agent.model.fit(df[features], df['trend_score'])\n",
    "    return agent\n",
    "\n",
    "\n",
    "def forecast_trends_tool(df, agent):\n",
    "    print(\"[ForecasterAgent] Forecasting trends...\")\n",
    "    df = agent.prepare_features(df)\n",
    "    features = ['prev_score', 'prev_score2', 'prev_score3', 'likes', 'shares', 'comments', 'rolling_mean',\n",
    "                'rolling_std']\n",
    "    df['forecasted_trend_score'] = agent.model.predict(df[features])\n",
    "    return df[['trend_name', 'forecasted_trend_score']]\n"
   ],
   "id": "f02579659678b795",
   "outputs": [],
   "execution_count": 94
  },
  {
   "metadata": {
    "ExecuteTime": {
     "end_time": "2025-09-26T04:01:06.136890Z",
     "start_time": "2025-09-26T04:01:06.131505Z"
    }
   },
   "cell_type": "code",
   "source": [
    "class TrendDirectionAgent:\n",
    "    def __init__(self, up_threshold=0.01, down_threshold=-0.01):\n",
    "        self.up_threshold = up_threshold\n",
    "        self.down_threshold = down_threshold\n",
    "\n",
    "    def compute_direction(self, df, score_column='trend_score'):\n",
    "        print(\"[DirectionAgent] Computing trend directions...\")\n",
    "        df = df.sort_values(by=['trend_name', 'timestamp'])\n",
    "        df['prev_score'] = df.groupby('trend_name')[score_column].shift(1)\n",
    "        df['score_change'] = df[score_column] - df['prev_score']\n",
    "        df['trend_direction'] = df['score_change'].apply(\n",
    "            lambda x: 'up' if x > self.up_threshold else ('down' if x < self.down_threshold else 'stable'))\n",
    "        df['trend_direction'] = df['trend_direction'].fillna('stable')\n",
    "        return df\n"
   ],
   "id": "a484c384e40c9762",
   "outputs": [],
   "execution_count": 95
  },
  {
   "metadata": {
    "ExecuteTime": {
     "end_time": "2025-09-26T04:01:06.150182Z",
     "start_time": "2025-09-26T04:01:06.145042Z"
    }
   },
   "cell_type": "code",
   "source": [
    "def compute_overall_direction_tool(df, predicted_col='predicted_trend_score', forecast_col='forecasted_trend_score',\n",
    "                                   up_threshold=0.01, down_threshold=-0.01):\n",
    "    print(\"[InsightsAgent] Aggregating overall trend directions...\")\n",
    "    agg = df.groupby('trend_name').agg({predicted_col: 'mean', forecast_col: 'mean'}).reset_index()\n",
    "    agg['score_change'] = agg[forecast_col] - agg[predicted_col]\n",
    "    agg['trend_direction'] = agg['score_change'].apply(\n",
    "        lambda x: 'up' if x > up_threshold else ('down' if x < down_threshold else 'stable'))\n",
    "    return agg[['trend_name', predicted_col, forecast_col, 'trend_direction']]\n"
   ],
   "id": "2ad4eb8fe6943990",
   "outputs": [],
   "execution_count": 96
  },
  {
   "metadata": {
    "ExecuteTime": {
     "end_time": "2025-09-26T04:01:06.160186Z",
     "start_time": "2025-09-26T04:01:06.156176Z"
    }
   },
   "cell_type": "code",
   "source": [
    "from agents import Runner, Agent, OpenAIChatCompletionsModel\n",
    "from openai import AsyncOpenAI\n",
    "\n",
    "\n",
    "class FashionTrendOrchestrator:\n",
    "    def __init__(self, gemini_api_key: str):\n",
    "        self.gemini_client = AsyncOpenAI(\n",
    "            base_url=\"https://generativelanguage.googleapis.com/v1beta/openai/\",\n",
    "            api_key=gemini_api_key\n",
    "        )\n",
    "        self.gemini_model = OpenAIChatCompletionsModel(model=\"gemini-2.0-flash\", openai_client=self.gemini_client)\n",
    "        instructions = (\n",
    "            \"You are the Fashion Trend Orchestrator Agent. \"\n",
    "            \"You have multiple sub-agents (DataAgent, ScorePredictorAgent, ForecasterAgent, DirectionAgent, InsightsAgent). \"\n",
    "            \"Decide which agent to call next and explain briefly before calling. \"\n",
    "            \"Return the final aggregated insights and top forecasted trends.\"\n",
    "        )\n",
    "        self.agent = Agent(name=\"Gemini Fashion Orchestrator\", instructions=instructions, model=self.gemini_model)\n",
    "\n",
    "    def run_pipeline(self, content_summary: str) -> str:\n",
    "        print(\"[OrchestratorAgent] Running multi-agent pipeline...\")\n",
    "        result = Runner.run(self.agent, input=content_summary)\n",
    "        return result.output_text\n"
   ],
   "id": "2e2f32ac89350ade",
   "outputs": [],
   "execution_count": 97
  },
  {
   "metadata": {
    "ExecuteTime": {
     "end_time": "2025-09-26T04:01:07.147441Z",
     "start_time": "2025-09-26T04:01:06.170199Z"
    }
   },
   "cell_type": "code",
   "source": [
    "# 1. Fetch data\n",
    "df = fetch_fashion_data_tool(limit=100)\n",
    "\n",
    "# 2. Train predictor and fill missing scores\n",
    "predictor_agent = TrendPredictorAgent().train(df)\n",
    "df = predict_missing_scores_tool(df, predictor_agent)\n",
    "\n",
    "# 3. Train forecast agent and predict\n",
    "forecast_agent = ForecastAgent()\n",
    "forecast_agent = train_forecast_tool(df, forecast_agent)\n",
    "df_forecast = forecast_trends_tool(df, forecast_agent)\n",
    "\n",
    "# 4. Compute trend directions\n",
    "direction_agent = TrendDirectionAgent()\n",
    "df = direction_agent.compute_direction(df, score_column='predicted_trend_score')\n",
    "\n",
    "# 5. Merge forecast & direction\n",
    "df_final = df.merge(df_forecast, on='trend_name', how='left')\n",
    "print(df_final[['trend_name', 'predicted_trend_score', 'forecasted_trend_score', 'trend_direction']].head(20))\n",
    "\n",
    "# 6. Compute overall trend\n",
    "df_overall = compute_overall_direction_tool(df_final)\n",
    "print(df_overall.sort_values(by='forecasted_trend_score', ascending=False).head(20))\n"
   ],
   "id": "e526b09892e066c6",
   "outputs": [
    {
     "name": "stdout",
     "output_type": "stream",
     "text": [
      "[DataAgent] Fetching fashion data from DB...\n",
      "[ScorePredictorAgent] Training trend predictor...\n",
      "[ScorePredictorAgent] Predicting missing trend scores...\n",
      "[ForecasterAgent] Training forecast model...\n",
      "[ForecasterAgent] Forecasting trends...\n",
      "[DirectionAgent] Computing trend directions...\n",
      "    trend_name  predicted_trend_score  forecasted_trend_score trend_direction\n",
      "0   bucket hat               0.739293                0.711560          stable\n",
      "1   bucket hat               0.739293                0.572816          stable\n",
      "2   bucket hat               0.739293                0.634794          stable\n",
      "3   bucket hat               0.739293                0.446027          stable\n",
      "4   bucket hat               0.739293                0.735001          stable\n",
      "5   bucket hat               0.739293                0.051348          stable\n",
      "6   bucket hat               0.739293                0.122061          stable\n",
      "7   bucket hat               0.516612                0.711560            down\n",
      "8   bucket hat               0.516612                0.572816            down\n",
      "9   bucket hat               0.516612                0.634794            down\n",
      "10  bucket hat               0.516612                0.446027            down\n",
      "11  bucket hat               0.516612                0.735001            down\n",
      "12  bucket hat               0.516612                0.051348            down\n",
      "13  bucket hat               0.516612                0.122061            down\n",
      "14  bucket hat               0.641506                0.711560              up\n",
      "15  bucket hat               0.641506                0.572816              up\n",
      "16  bucket hat               0.641506                0.634794              up\n",
      "17  bucket hat               0.641506                0.446027              up\n",
      "18  bucket hat               0.641506                0.735001              up\n",
      "19  bucket hat               0.641506                0.051348              up\n",
      "[InsightsAgent] Aggregating overall trend directions...\n",
      "          trend_name  predicted_trend_score  forecasted_trend_score  \\\n",
      "8      sneaker trend               0.533764                0.524967   \n",
      "2     denim overalls               0.516579                0.522943   \n",
      "1           crop top               0.462664                0.472179   \n",
      "7        plaid skirt               0.467817                0.468633   \n",
      "0         bucket hat               0.462027                0.467658   \n",
      "4      leather boots               0.462841                0.465156   \n",
      "9  streetwear hoodie               0.468870                0.458254   \n",
      "5        neon colors               0.445513                0.438557   \n",
      "6   oversized jacket               0.429419                0.424576   \n",
      "3       floral dress               0.378752                0.392302   \n",
      "\n",
      "  trend_direction  \n",
      "8          stable  \n",
      "2          stable  \n",
      "1          stable  \n",
      "7          stable  \n",
      "0          stable  \n",
      "4          stable  \n",
      "9            down  \n",
      "5          stable  \n",
      "6          stable  \n",
      "3              up  \n"
     ]
    },
    {
     "name": "stderr",
     "output_type": "stream",
     "text": [
      "/Users/pamudithasenanayake/Downloads/fashion_project/backend/.venv/lib/python3.12/site-packages/sqlalchemy/engine/cursor.py:1137: RuntimeWarning: coroutine 'FashionAI._analyze_async' was never awaited\n",
      "  rows = dbapi_cursor.fetchall()\n",
      "RuntimeWarning: Enable tracemalloc to get the object allocation traceback\n",
      "/var/folders/vf/rbbd31d52x71bpbg3sn62p3r0000gn/T/ipykernel_93748/4255584270.py:14: FutureWarning: Downcasting object dtype arrays on .fillna, .ffill, .bfill is deprecated and will change in a future version. Call result.infer_objects(copy=False) instead. To opt-in to the future behavior, set `pd.set_option('future.no_silent_downcasting', True)`\n",
      "  df = df.fillna(0)\n",
      "/var/folders/vf/rbbd31d52x71bpbg3sn62p3r0000gn/T/ipykernel_93748/4255584270.py:14: FutureWarning: Downcasting object dtype arrays on .fillna, .ffill, .bfill is deprecated and will change in a future version. Call result.infer_objects(copy=False) instead. To opt-in to the future behavior, set `pd.set_option('future.no_silent_downcasting', True)`\n",
      "  df = df.fillna(0)\n"
     ]
    }
   ],
   "execution_count": 98
  }
 ],
 "metadata": {
  "kernelspec": {
   "display_name": "Python 3",
   "language": "python",
   "name": "python3"
  },
  "language_info": {
   "codemirror_mode": {
    "name": "ipython",
    "version": 2
   },
   "file_extension": ".py",
   "mimetype": "text/x-python",
   "name": "python",
   "nbconvert_exporter": "python",
   "pygments_lexer": "ipython2",
   "version": "2.7.6"
  }
 },
 "nbformat": 4,
 "nbformat_minor": 5
}
