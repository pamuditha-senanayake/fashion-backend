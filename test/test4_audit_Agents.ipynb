{
 "cells": [
  {
   "metadata": {
    "ExecuteTime": {
     "end_time": "2025-09-26T08:28:19.677412Z",
     "start_time": "2025-09-26T08:28:19.611772Z"
    }
   },
   "cell_type": "code",
   "source": [
    "# !pip install openai pandas python-dotenv\n",
    "\n",
    "import pandas as pd\n",
    "import os\n",
    "from openai import OpenAI\n",
    "from dotenv import load_dotenv\n",
    "\n",
    "load_dotenv()\n",
    "OPENAI_API_KEY = os.getenv(\"OPENAI_API_KEY\")\n",
    "client = OpenAI(api_key=OPENAI_API_KEY)\n",
    "\n",
    "print(\"OpenAI API Key Loaded:\", OPENAI_API_KEY is not None)\n"
   ],
   "id": "f6695a98b2c2cc93",
   "outputs": [
    {
     "name": "stdout",
     "output_type": "stream",
     "text": [
      "OpenAI API Key Loaded: True\n"
     ]
    }
   ],
   "execution_count": 52
  },
  {
   "cell_type": "code",
   "id": "initial_id",
   "metadata": {
    "collapsed": true,
    "ExecuteTime": {
     "end_time": "2025-09-26T08:28:21.250235Z",
     "start_time": "2025-09-26T08:28:21.238839Z"
    }
   },
   "source": [
    "data = [\n",
    "    {\"trend_name\": \"bucket hat\", \"predicted_trend_score\": 0.039, \"forecasted_trend_score\": 0.110,\n",
    "     \"trendDirection\": \"stable\"},\n",
    "    {\"trend_name\": \"crop top\", \"predicted_trend_score\": 0.400, \"forecasted_trend_score\": 0.405,\n",
    "     \"trendDirection\": \"stable\"},\n",
    "    {\"trend_name\": \"denim overalls\", \"predicted_trend_score\": 0.516, \"forecasted_trend_score\": 0.511,\n",
    "     \"trendDirection\": \"stable\"},\n",
    "    {\"trend_name\": \"leather boots\", \"predicted_trend_score\": 0.218, \"forecasted_trend_score\": 0.210,\n",
    "     \"trendDirection\": \"stable\"}\n",
    "]\n",
    "df_trends = pd.DataFrame(data)\n",
    "df_trends\n"
   ],
   "outputs": [
    {
     "data": {
      "text/plain": [
       "       trend_name  predicted_trend_score  forecasted_trend_score  \\\n",
       "0      bucket hat                  0.039                   0.110   \n",
       "1        crop top                  0.400                   0.405   \n",
       "2  denim overalls                  0.516                   0.511   \n",
       "3   leather boots                  0.218                   0.210   \n",
       "\n",
       "  trendDirection  \n",
       "0         stable  \n",
       "1         stable  \n",
       "2         stable  \n",
       "3         stable  "
      ],
      "text/html": [
       "<div>\n",
       "<style scoped>\n",
       "    .dataframe tbody tr th:only-of-type {\n",
       "        vertical-align: middle;\n",
       "    }\n",
       "\n",
       "    .dataframe tbody tr th {\n",
       "        vertical-align: top;\n",
       "    }\n",
       "\n",
       "    .dataframe thead th {\n",
       "        text-align: right;\n",
       "    }\n",
       "</style>\n",
       "<table border=\"1\" class=\"dataframe\">\n",
       "  <thead>\n",
       "    <tr style=\"text-align: right;\">\n",
       "      <th></th>\n",
       "      <th>trend_name</th>\n",
       "      <th>predicted_trend_score</th>\n",
       "      <th>forecasted_trend_score</th>\n",
       "      <th>trendDirection</th>\n",
       "    </tr>\n",
       "  </thead>\n",
       "  <tbody>\n",
       "    <tr>\n",
       "      <th>0</th>\n",
       "      <td>bucket hat</td>\n",
       "      <td>0.039</td>\n",
       "      <td>0.110</td>\n",
       "      <td>stable</td>\n",
       "    </tr>\n",
       "    <tr>\n",
       "      <th>1</th>\n",
       "      <td>crop top</td>\n",
       "      <td>0.400</td>\n",
       "      <td>0.405</td>\n",
       "      <td>stable</td>\n",
       "    </tr>\n",
       "    <tr>\n",
       "      <th>2</th>\n",
       "      <td>denim overalls</td>\n",
       "      <td>0.516</td>\n",
       "      <td>0.511</td>\n",
       "      <td>stable</td>\n",
       "    </tr>\n",
       "    <tr>\n",
       "      <th>3</th>\n",
       "      <td>leather boots</td>\n",
       "      <td>0.218</td>\n",
       "      <td>0.210</td>\n",
       "      <td>stable</td>\n",
       "    </tr>\n",
       "  </tbody>\n",
       "</table>\n",
       "</div>"
      ]
     },
     "execution_count": 53,
     "metadata": {},
     "output_type": "execute_result"
    }
   ],
   "execution_count": 53
  },
  {
   "metadata": {
    "ExecuteTime": {
     "end_time": "2025-09-26T08:30:19.320726Z",
     "start_time": "2025-09-26T08:30:19.315468Z"
    }
   },
   "cell_type": "code",
   "source": [
    "def call_detail_agent(df):\n",
    "    records = df[['trend_name','predicted_trend_score','forecasted_trend_score','trendDirection']].to_dict(orient='records')\n",
    "    prompt = (\n",
    "        \"You are a Responsible AI Auditor. Analyze the following fashion trend data and \"\n",
    "        \"identify potential issues regarding fairness, bias, transparency, explainability, \"\n",
    "        \"forecast reliability, or data quality. Output as concise bullet points separated by semicolons.\\n\\n\"\n",
    "        f\"Trend Data:\\n{records}\\n\\nOutput points separated by semicolons.\"\n",
    "    )\n",
    "\n",
    "    resp = client.chat.completions.create(\n",
    "        model=\"gpt-4o-mini\",\n",
    "        messages=[{\"role\":\"user\",\"content\":prompt}],\n",
    "        temperature=0.3,\n",
    "        max_tokens=400\n",
    "    )\n",
    "\n",
    "    # Extract just the text content\n",
    "    detail_points = resp.choices[0].message.content.strip()\n",
    "    return detail_points  # <-- return only the text\n"
   ],
   "id": "51a852ae77910339",
   "outputs": [],
   "execution_count": 56
  },
  {
   "metadata": {
    "ExecuteTime": {
     "end_time": "2025-09-26T08:30:36.126490Z",
     "start_time": "2025-09-26T08:30:30.213695Z"
    }
   },
   "cell_type": "code",
   "source": [
    "detail_text = call_detail_agent(df_trends)\n",
    "print(detail_text)"
   ],
   "id": "c44608be8412e1cf",
   "outputs": [
    {
     "name": "stdout",
     "output_type": "stream",
     "text": [
      "- Low predicted trend scores for some items (e.g., bucket hat) may indicate a lack of interest or visibility, potentially leading to unfair representation in trend forecasting; \n",
      "- The small range between predicted and forecasted scores for most trends suggests a lack of variability, which may limit the model's ability to capture emerging styles or shifts in consumer preferences; \n",
      "- The model's reliance on historical data may introduce bias, favoring established trends over innovative or niche styles; \n",
      "- Lack of demographic breakdown in trend data raises concerns about transparency and fairness, as certain groups may be underrepresented in trend forecasting; \n",
      "- The stability in trend direction across all items may indicate a conservative approach to forecasting, potentially overlooking disruptive trends; \n",
      "- The absence of explainability regarding how scores were derived limits stakeholders' ability to understand and trust the model's predictions; \n",
      "- Data quality issues may arise if the input data lacks diversity or is outdated, affecting the reliability of trend forecasts; \n",
      "- Potential overfitting to past trends could lead to inaccurate predictions, especially in a rapidly changing fashion landscape.\n"
     ]
    }
   ],
   "execution_count": 57
  },
  {
   "metadata": {
    "ExecuteTime": {
     "end_time": "2025-09-26T08:32:12.420443Z",
     "start_time": "2025-09-26T08:32:12.413356Z"
    }
   },
   "cell_type": "code",
   "source": [
    "def call_summary_agent(detail_text):\n",
    "    \"\"\"\n",
    "    Summarize detailed audit points into exactly 10 concise points.\n",
    "    detail_text: str output from Detail Agent\n",
    "    \"\"\"\n",
    "    prompt = (\n",
    "        \"You are a Responsible AI Auditor. Summarize the following audit points into, mention specific items as well\"\n",
    "        \"a concise report containing exactly 10 distinct points, semicolon-separated:\\n\\n\"\n",
    "        f\"{detail_text}\"\n",
    "    )\n",
    "\n",
    "    resp = client.chat.completions.create(\n",
    "        model=\"gpt-4o-mini\",\n",
    "        messages=[{\"role\": \"user\", \"content\": prompt}],\n",
    "        temperature=0.3,\n",
    "        max_tokens=300\n",
    "    )\n",
    "\n",
    "    # Extract only the text content\n",
    "    try:\n",
    "        summary_text = resp.choices[0].message.content.strip()\n",
    "    except:\n",
    "        summary_text = str(resp.choices[0])\n",
    "\n",
    "    print(\"=== Summary Agent Output ===\")\n",
    "    print(summary_text)\n",
    "    return summary_text\n",
    "\n",
    "\n",
    "\n"
   ],
   "id": "4a262044efe4e307",
   "outputs": [],
   "execution_count": 60
  },
  {
   "metadata": {
    "ExecuteTime": {
     "end_time": "2025-09-26T08:32:20.077712Z",
     "start_time": "2025-09-26T08:32:14.809500Z"
    }
   },
   "cell_type": "code",
   "source": "summary_points = call_summary_agent(detail_text)",
   "id": "c4d95ae250f7ba9b",
   "outputs": [
    {
     "name": "stdout",
     "output_type": "stream",
     "text": [
      "=== Summary Agent Output ===\n",
      "1. Low predicted trend scores for items like bucket hats indicate potential lack of interest or visibility;  \n",
      "2. Small range between predicted and forecasted scores suggests limited variability in capturing emerging styles;  \n",
      "3. Model reliance on historical data may introduce bias, favoring established trends over innovative styles;  \n",
      "4. Absence of demographic breakdown in trend data raises concerns about transparency and fairness;  \n",
      "5. Stability in trend direction across items indicates a conservative forecasting approach, risking oversight of disruptive trends;  \n",
      "6. Lack of explainability in score derivation limits stakeholder understanding and trust in predictions;  \n",
      "7. Data quality issues may arise from outdated or non-diverse input data, affecting forecast reliability;  \n",
      "8. Potential overfitting to past trends risks inaccurate predictions in a rapidly changing fashion landscape;  \n",
      "9. Unfair representation in trend forecasting may result from low visibility items;  \n",
      "10. Model may struggle to adapt to shifts in consumer preferences due to limited variability in trend scores.\n"
     ]
    }
   ],
   "execution_count": 61
  },
  {
   "metadata": {
    "ExecuteTime": {
     "end_time": "2025-09-26T08:34:06.716790Z",
     "start_time": "2025-09-26T08:34:06.711995Z"
    }
   },
   "cell_type": "code",
   "source": [
    "def audit_trends_text(df):\n",
    "    # Step 1: Detail Agent\n",
    "    detail_text = call_detail_agent(df)\n",
    "\n",
    "    # Step 2: Summary Agent\n",
    "    summary_text = call_summary_agent(detail_text)\n",
    "\n",
    "    print(\"\\n=== Detail Agent Output ===\")\n",
    "    print(detail_text)\n",
    "\n",
    "    print(\"\\n=== Summary Agent Output ===\")\n",
    "    print(summary_text)\n",
    "\n",
    "    # Return both texts as tuple if needed\n",
    "    return detail_text, summary_text\n",
    "\n",
    "\n",
    "\n"
   ],
   "id": "8673b97fc6854adf",
   "outputs": [],
   "execution_count": 66
  },
  {
   "metadata": {
    "ExecuteTime": {
     "end_time": "2025-09-26T08:34:21.431776Z",
     "start_time": "2025-09-26T08:34:08.546833Z"
    }
   },
   "cell_type": "code",
   "source": "detail_text, summary_text = audit_trends_text(df_trends)",
   "id": "893b04047a2c8c62",
   "outputs": [
    {
     "name": "stdout",
     "output_type": "stream",
     "text": [
      "=== Summary Agent Output ===\n",
      "1. Low predicted trend scores for 'bucket hat' indicate potential marginalization of this style;  \n",
      "2. Small variance between predicted and forecasted trend scores for 'crop top' and 'denim overalls' suggests a reliable model;  \n",
      "3. Lack of diversity in trend forecasting may be indicated by the small variance in scores;  \n",
      "4. Stable trend direction across all items may overlook emerging trends or shifts in consumer preferences;  \n",
      "5. Potential bias in trend analysis arises from the stable trend direction;  \n",
      "6. Lack of transparency in methodology hinders trust in trend predictions;  \n",
      "7. Absence of demographic data raises concerns about fairness and inclusivity;  \n",
      "8. Trends may not reflect diverse consumer preferences due to lack of demographic data;  \n",
      "9. Over-reliance on historical data could affect forecast reliability amid changing consumer behavior;  \n",
      "10. Uncertain overall data quality impacts prediction accuracy without clear sources and methods.\n",
      "\n",
      "=== Detail Agent Output ===\n",
      "- Low predicted trend scores for 'bucket hat' may indicate a lack of interest or visibility, potentially marginalizing this style; \n",
      "- The small variance between predicted and forecasted trend scores for 'crop top' and 'denim overalls' suggests a reliable model, but may also indicate a lack of diversity in trend forecasting; \n",
      "- The stable trend direction across all items may overlook emerging trends or shifts in consumer preferences, leading to a potential bias in trend analysis; \n",
      "- Lack of transparency in the methodology used to derive trend scores could hinder trust in the predictions; \n",
      "- The absence of demographic data in the trend analysis raises concerns about fairness and inclusivity, as trends may not reflect diverse consumer preferences; \n",
      "- Potential over-reliance on historical data could affect forecast reliability, especially if consumer behavior is changing rapidly; \n",
      "- Overall data quality is uncertain without information on the sources and methods used to gather trend data, which could impact the accuracy of predictions.\n",
      "\n",
      "=== Summary Agent Output ===\n",
      "1. Low predicted trend scores for 'bucket hat' indicate potential marginalization of this style;  \n",
      "2. Small variance between predicted and forecasted trend scores for 'crop top' and 'denim overalls' suggests a reliable model;  \n",
      "3. Lack of diversity in trend forecasting may be indicated by the small variance in scores;  \n",
      "4. Stable trend direction across all items may overlook emerging trends or shifts in consumer preferences;  \n",
      "5. Potential bias in trend analysis arises from the stable trend direction;  \n",
      "6. Lack of transparency in methodology hinders trust in trend predictions;  \n",
      "7. Absence of demographic data raises concerns about fairness and inclusivity;  \n",
      "8. Trends may not reflect diverse consumer preferences due to lack of demographic data;  \n",
      "9. Over-reliance on historical data could affect forecast reliability amid changing consumer behavior;  \n",
      "10. Uncertain overall data quality impacts prediction accuracy without clear sources and methods.\n"
     ]
    }
   ],
   "execution_count": 67
  }
 ],
 "metadata": {
  "kernelspec": {
   "display_name": "Python 3",
   "language": "python",
   "name": "python3"
  },
  "language_info": {
   "codemirror_mode": {
    "name": "ipython",
    "version": 2
   },
   "file_extension": ".py",
   "mimetype": "text/x-python",
   "name": "python",
   "nbconvert_exporter": "python",
   "pygments_lexer": "ipython2",
   "version": "2.7.6"
  }
 },
 "nbformat": 4,
 "nbformat_minor": 5
}
