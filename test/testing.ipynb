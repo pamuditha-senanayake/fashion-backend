{
 "cells": [
  {
   "metadata": {
    "ExecuteTime": {
     "end_time": "2025-09-25T08:47:25.992600Z",
     "start_time": "2025-09-25T08:47:24.488151Z"
    }
   },
   "cell_type": "code",
   "source": [
    "from dotenv import load_dotenv\n",
    "from openai import AsyncOpenAI\n",
    "from agents import Agent, Runner, trace, function_tool, OpenAIChatCompletionsModel, input_guardrail, GuardrailFunctionOutput\n",
    "from typing import Dict\n",
    "import os\n",
    "from pydantic import BaseModel\n",
    "load_dotenv(override=True)\n",
    "openai_api_key = os.getenv('OPENAI_API_KEY')\n",
    "google_api_key = os.getenv('GOOGLE_API_KEY')\n",
    "openai_api_key = os.getenv('OPENAI_API_KEY')\n",
    "google_api_key = os.getenv('GOOGLE_API_KEY')\n",
    "deepseek_api_key = os.getenv('DEEPSEEK_API_KEY')\n",
    "groq_api_key = os.getenv('GROQ_API_KEY')\n",
    "\n",
    "if openai_api_key:\n",
    "    print(f\"OpenAI API Key exists and begins {openai_api_key[:8]}\")\n",
    "else:\n",
    "    print(\"OpenAI API Key not set\")\n",
    "\n",
    "if google_api_key:\n",
    "    print(f\"Google API Key exists and begins {google_api_key[:2]}\")\n",
    "else:\n",
    "    print(\"Google API Key not set (and this is optional)\")\n",
    "\n",
    "if deepseek_api_key:\n",
    "    print(f\"DeepSeek API Key exists and begins {deepseek_api_key[:3]}\")\n",
    "else:\n",
    "    print(\"DeepSeek API Key not set (and this is optional)\")\n",
    "\n",
    "if groq_api_key:\n",
    "    print(f\"Groq API Key exists and begins {groq_api_key[:4]}\")\n",
    "else:\n",
    "    print(\"Groq API Key not set (and this is optional)\")\n",
    "GEMINI_BASE_URL = \"https://generativelanguage.googleapis.com/v1beta/openai/\"\n",
    "DEEPSEEK_BASE_URL = \"https://api.deepseek.com/v1\"\n",
    "GROQ_BASE_URL = \"https://api.groq.com/openai/v1\"\n",
    "instructions1 = \"You are a fashion trend predictor. \\\n",
    "When given content from social media, blogs, or search results, you analyze it to identify emerging fashion trends. \\\n",
    "Your output is a concise, insightful summary of future fashion trends, highlighting key patterns, colors, styles, and consumer preferences. \\\n",
    "Write in a professional yet engaging style suitable for fashion industry reports.\"\n",
    "\n",
    "gemini_client = AsyncOpenAI(base_url=GEMINI_BASE_URL, api_key=google_api_key)\n",
    "gemini_model = OpenAIChatCompletionsModel(model=\"gemini-2.0-flash\", openai_client=gemini_client)\n",
    "fashion_agent1 =  Agent(name=\"Gemini fashion predictor Agent\", instructions=instructions1, model=gemini_model)\n",
    "result = Runner.run_streamed(\n",
    "    fashion_agent1,\n",
    "    input=\"Summarize fashion trends concisely for a client—clear and digestible, not overwhelming. main points concisely. dont exceed than 100 words. just only content, dont need respond like ok and things\"\n",
    ")\n",
    "\n",
    "from openai.types.responses import ResponseTextDeltaEvent\n",
    "\n",
    "async for event in result.stream_events():\n",
    "    if event.type == \"raw_response_event\" and isinstance(event.data, ResponseTextDeltaEvent):\n",
    "        print(event.data.delta, end=\"\", flush=True)"
   ],
   "id": "918830d6b50a73bb",
   "outputs": [
    {
     "name": "stdout",
     "output_type": "stream",
     "text": [
      "OpenAI API Key exists and begins sk-proj-\n",
      "Google API Key exists and begins AI\n",
      "DeepSeek API Key not set (and this is optional)\n",
      "Groq API Key not set (and this is optional)\n",
      "Here's a snapshot of upcoming fashion trends:\n",
      "\n",
      "Expect a vibrant palette led by pastel blues and sunshine yellows, contrasted with bold fuchsia accents. Silhouettes lean towards relaxed tailoring with wide-leg trousers and oversized blazers, alongside a resurgence of 90s-inspired slip dresses. Sustainable and upcycled materials continue to gain traction, reflecting conscious consumerism. Key accessories include chunky sneakers and statement jewelry.\n"
     ]
    }
   ],
   "execution_count": 100
  },
  {
   "metadata": {
    "ExecuteTime": {
     "end_time": "2025-09-25T08:49:47.893575Z",
     "start_time": "2025-09-25T08:49:46.062717Z"
    }
   },
   "cell_type": "code",
   "source": [
    "from dotenv import load_dotenv\n",
    "from openai import AsyncOpenAI\n",
    "from agents import Agent, Runner, OpenAIChatCompletionsModel\n",
    "import os\n",
    "\n",
    "# Load environment variables\n",
    "load_dotenv(override=True)\n",
    "GEMINI_API_KEY = os.getenv(\"GEMINI_API_KEY\")\n",
    "if not GEMINI_API_KEY:\n",
    "    raise ValueError(\"GEMINI_API_KEY not found in environment variables!\")\n",
    "\n",
    "# Gemini API client\n",
    "GEMINI_BASE_URL = \"https://generativelanguage.googleapis.com/v1beta/openai/\"\n",
    "gemini_client = AsyncOpenAI(base_url=GEMINI_BASE_URL, api_key=GEMINI_API_KEY)\n",
    "\n",
    "# Model setup\n",
    "gemini_model = OpenAIChatCompletionsModel(model=\"gemini-2.0-flash\", openai_client=gemini_client)\n",
    "\n",
    "# Agent instructions\n",
    "instructions = (\n",
    "    \"You are a fashion trend predictor. Analyze content from social media, blogs, or search results \"\n",
    "    \"to identify emerging fashion trends. Provide a concise, insightful summary highlighting key patterns, \"\n",
    "    \"colors, styles, and consumer preferences. Write professionally yet engaging, suitable for fashion industry reports.\"\n",
    ")\n",
    "\n",
    "fashion_agent = Agent(name=\"Gemini Fashion Agent\", instructions=instructions, model=gemini_model)\n",
    "\n",
    "# Run agent and stream result\n",
    "result = Runner.run_streamed(\n",
    "    fashion_agent,\n",
    "    input=\"Summarize fashion trends concisely for a client—clear and digestible, not overwhelming. \"\n",
    "          \"Main points only, under 100 words, just the content.\"\n",
    ")\n",
    "\n",
    "from openai.types.responses import ResponseTextDeltaEvent\n",
    "\n",
    "async def stream_fashion_trends():\n",
    "    async for event in result.stream_events():\n",
    "        if event.type == \"raw_response_event\" and isinstance(event.data, ResponseTextDeltaEvent):\n",
    "            print(event.data.delta, end=\"\", flush=True)\n",
    "\n",
    "# To execute in an async context (e.g., Jupyter notebook)\n",
    "import asyncio\n",
    "asyncio.run(stream_fashion_trends())\n"
   ],
   "id": "25f5ea04cad4bd08",
   "outputs": [
    {
     "name": "stdout",
     "output_type": "stream",
     "text": [
      "Okay, here's a concise fashion trend summary:\n",
      "\n",
      "Expect a rise in **comfort-driven style:** think relaxed silhouettes, soft fabrics (linen, cotton blends), and elevated basics. **Bold colors** like saturated pinks, greens, and blues are trending alongside **earthy neutrals**. Key items include wide-leg trousers, oversized blazers, and knit dresses. **Y2K influences** persist with low-rise bottoms and crop tops, but are being reinterpreted with a more mature and sophisticated lens. Accessories are focused on **chunky jewelry** and practical bags. Overall, prioritize self-expression and individuality.\n"
     ]
    }
   ],
   "execution_count": 102
  }
 ],
 "metadata": {
  "kernelspec": {
   "display_name": "base",
   "language": "python",
   "name": "python3"
  },
  "language_info": {
   "codemirror_mode": {
    "name": "ipython",
    "version": 3
   },
   "file_extension": ".py",
   "mimetype": "text/x-python",
   "name": "python",
   "nbconvert_exporter": "python",
   "pygments_lexer": "ipython3",
   "version": "3.12.7"
  }
 },
 "nbformat": 4,
 "nbformat_minor": 5
}
