{
 "cells": [
  {
   "cell_type": "code",
   "id": "initial_id",
   "metadata": {
    "collapsed": true,
    "ExecuteTime": {
     "end_time": "2025-09-25T15:32:08.976231Z",
     "start_time": "2025-09-25T15:32:08.960802Z"
    }
   },
   "source": [
    "# Chunk 1: imports and DB setup\n",
    "import pandas as pd\n",
    "from sqlalchemy import create_engine, text\n",
    "\n",
    "DB_USER = \"pamudithasenanayake\"\n",
    "DB_PASS = \"123\"\n",
    "DB_HOST = \"localhost\"\n",
    "DB_NAME = \"fashionsite\"\n",
    "\n",
    "engine = create_engine(f\"postgresql+psycopg2://{DB_USER}:{DB_PASS}@{DB_HOST}/{DB_NAME}\")\n"
   ],
   "outputs": [],
   "execution_count": 68
  },
  {
   "metadata": {
    "ExecuteTime": {
     "end_time": "2025-09-25T15:32:08.997893Z",
     "start_time": "2025-09-25T15:32:08.992349Z"
    }
   },
   "cell_type": "code",
   "source": [
    "# def fetch_fashion_data(limit=100):\n",
    "#     query = f\"SELECT * FROM synthetic_fashion_trends ORDER BY timestamp DESC LIMIT {limit}\"\n",
    "#     df = pd.read_sql(query, engine)\n",
    "#     df['hashtags'] = df['hashtags'].apply(lambda x: list(x) if x else [])\n",
    "#     df['tags'] = df['tags'].apply(lambda x: list(x) if x else [])\n",
    "#     df = df.drop_duplicates(subset=['trend_name'], keep='first')\n",
    "#     return df\n",
    "\n",
    "# Chunk 2 — updated\n",
    "def fetch_fashion_data(limit=100):\n",
    "    query = f\"SELECT * FROM synthetic_fashion_trends ORDER BY timestamp DESC LIMIT {limit}\"\n",
    "    df = pd.read_sql(query, engine)\n",
    "    df['hashtags'] = df['hashtags'].apply(lambda x: list(x) if x else [])\n",
    "    df['tags'] = df['tags'].apply(lambda x: list(x) if x else [])\n",
    "\n",
    "    # QUICK FIX: add small random noise\n",
    "    import numpy as np\n",
    "    df['trend_score'] = df['trend_score'] + np.random.uniform(-0.05, 0.05, size=len(df))\n",
    "    df['trend_score'] = df['trend_score'].clip(0,1)\n",
    "    return df\n",
    "\n"
   ],
   "id": "948ee370d9209f0",
   "outputs": [],
   "execution_count": 69
  },
  {
   "metadata": {
    "ExecuteTime": {
     "end_time": "2025-09-25T15:32:09.011489Z",
     "start_time": "2025-09-25T15:32:09.004773Z"
    }
   },
   "cell_type": "code",
   "source": [
    "# Chunk 3: predict trend_score if missing\n",
    "from sklearn.ensemble import RandomForestRegressor\n",
    "\n",
    "class TrendPredictor:\n",
    "    def __init__(self):\n",
    "        self.model = RandomForestRegressor(n_estimators=50, random_state=42)\n",
    "\n",
    "    def train(self, df):\n",
    "        df['content_length'] = df['content'].str.len()\n",
    "        df['num_hashtags'] = df['hashtags'].apply(len)\n",
    "        df['num_tags'] = df['tags'].apply(len)\n",
    "        features = ['likes','shares','comments','content_length','num_hashtags','num_tags']\n",
    "        self.model.fit(df[features], df['trend_score'])\n",
    "        return self\n"
   ],
   "id": "6f8020b094635cb9",
   "outputs": [],
   "execution_count": 70
  },
  {
   "metadata": {
    "ExecuteTime": {
     "end_time": "2025-09-25T15:32:09.021218Z",
     "start_time": "2025-09-25T15:32:09.018406Z"
    }
   },
   "cell_type": "code",
   "source": [
    "# Chunk 4: predict missing trend scores\n",
    "def predict_missing_scores(df, predictor):\n",
    "    mask = df['trend_score'].isnull()\n",
    "    if mask.sum() > 0:\n",
    "        df_missing = df[mask].copy()\n",
    "        df_missing['content_length'] = df_missing['content'].str.len()\n",
    "        df_missing['num_hashtags'] = df_missing['hashtags'].apply(len)\n",
    "        df_missing['num_tags'] = df_missing['tags'].apply(len)\n",
    "        features = ['likes','shares','comments','content_length','num_hashtags','num_tags']\n",
    "        df.loc[mask, 'trend_score'] = predictor.model.predict(df_missing[features])\n",
    "    df['predicted_trend_score'] = df['trend_score']\n",
    "    return df\n"
   ],
   "id": "d90dcd0dad413fdd",
   "outputs": [],
   "execution_count": 71
  },
  {
   "metadata": {
    "ExecuteTime": {
     "end_time": "2025-09-25T15:32:09.039898Z",
     "start_time": "2025-09-25T15:32:09.027523Z"
    }
   },
   "cell_type": "code",
   "source": [
    "# Chunk 5: prepare lag features for forecasting\n",
    "# from sklearn.ensemble import RandomForestRegressor\n",
    "#\n",
    "# class ForecastAgent:\n",
    "#     def __init__(self):\n",
    "#         self.model = RandomForestRegressor(n_estimators=50, random_state=42)\n",
    "#\n",
    "#     def prepare_features(self, df):\n",
    "#         df = df.sort_values(by=['trend_name','timestamp'])\n",
    "#         df['prev_score'] = df.groupby('trend_name')['trend_score'].shift(1)\n",
    "#         df['prev_score2'] = df.groupby('trend_name')['trend_score'].shift(2)\n",
    "#         df['prev_score3'] = df.groupby('trend_name')['trend_score'].shift(3)\n",
    "#         df = df.fillna(0)\n",
    "#         return df\n",
    "#\n",
    "\n",
    "    # Chunk 5 — updated\n",
    "from sklearn.ensemble import RandomForestRegressor\n",
    "\n",
    "\n",
    "class ForecastAgent:\n",
    "    def __init__(self):\n",
    "        self.model = RandomForestRegressor(n_estimators=50, random_state=42)\n",
    "\n",
    "    def prepare_features(self, df):\n",
    "        df = df.sort_values(by=['trend_name', 'timestamp'])\n",
    "        df['prev_score'] = df.groupby('trend_name')['trend_score'].shift(1)\n",
    "        df['prev_score2'] = df.groupby('trend_name')['trend_score'].shift(2)\n",
    "        df['prev_score3'] = df.groupby('trend_name')['trend_score'].shift(3)\n",
    "        # Rolling mean/std\n",
    "        df['rolling_mean'] = df.groupby('trend_name')['trend_score'].transform(\n",
    "            lambda x: x.rolling(3, min_periods=1).mean())\n",
    "        df['rolling_std'] = df.groupby('trend_name')['trend_score'].transform(\n",
    "            lambda x: x.rolling(3, min_periods=1).std().fillna(0))\n",
    "        df = df.fillna(0)\n",
    "        return df\n",
    "\n"
   ],
   "id": "1622759d5e559e1d",
   "outputs": [],
   "execution_count": 72
  },
  {
   "metadata": {
    "ExecuteTime": {
     "end_time": "2025-09-25T15:32:09.050140Z",
     "start_time": "2025-09-25T15:32:09.046533Z"
    }
   },
   "cell_type": "code",
   "source": [
    "# Chunk 6\n",
    "def train_forecast(df, agent):\n",
    "    df = agent.prepare_features(df)\n",
    "    features = ['prev_score','prev_score2','prev_score3','likes','shares','comments','rolling_mean','rolling_std']\n",
    "    agent.model.fit(df[features], df['trend_score'])\n",
    "    return agent\n",
    "\n",
    "# Chunk 7\n",
    "def forecast_trends(df, agent):\n",
    "    df = agent.prepare_features(df)\n",
    "    features = ['prev_score','prev_score2','prev_score3','likes','shares','comments','rolling_mean','rolling_std']\n",
    "    df['forecasted_trend_score'] = agent.model.predict(df[features])\n",
    "    return df[['trend_name','forecasted_trend_score']]\n"
   ],
   "id": "94498abf48e8ee82",
   "outputs": [],
   "execution_count": 73
  },
  {
   "metadata": {
    "ExecuteTime": {
     "end_time": "2025-09-25T15:32:09.060551Z",
     "start_time": "2025-09-25T15:32:09.056118Z"
    }
   },
   "cell_type": "code",
   "source": [
    "# Chunk 8: compute trend direction with smaller thresholds\n",
    "class TrendDirectionAgent:\n",
    "    def __init__(self, up_threshold=0.01, down_threshold=-0.01):\n",
    "        self.up_threshold = up_threshold\n",
    "        self.down_threshold = down_threshold\n",
    "\n",
    "    def compute_direction(self, df, score_column='trend_score'):\n",
    "        df = df.sort_values(by=['trend_name','timestamp'])\n",
    "        df['prev_score'] = df.groupby('trend_name')[score_column].shift(1)\n",
    "        df['score_change'] = df[score_column] - df['prev_score']\n",
    "        df['trend_direction'] = df['score_change'].apply(\n",
    "            lambda x: 'up' if x > self.up_threshold else ('down' if x < self.down_threshold else 'stable')\n",
    "        )\n",
    "        df['trend_direction'] = df['trend_direction'].fillna('stable')\n",
    "        return df\n"
   ],
   "id": "9a46d301069275be",
   "outputs": [],
   "execution_count": 74
  },
  {
   "metadata": {
    "ExecuteTime": {
     "end_time": "2025-09-25T15:32:09.069154Z",
     "start_time": "2025-09-25T15:32:09.066459Z"
    }
   },
   "cell_type": "code",
   "source": [
    "# Chunk 9: optional random synthetic forecast\n",
    "import random\n",
    "\n",
    "class TrendForecaster:\n",
    "    def forecast(self, predicted_score):\n",
    "        change = random.uniform(-0.15, 0.15)\n",
    "        forecast_score = max(0.0, min(1.0, predicted_score + change))\n",
    "        if forecast_score > predicted_score + 0.05:\n",
    "            direction = \"up\"\n",
    "        elif forecast_score < predicted_score - 0.05:\n",
    "            direction = \"down\"\n",
    "        else:\n",
    "            direction = \"stable\"\n",
    "        return forecast_score, direction\n"
   ],
   "id": "27c04309a8845a7a",
   "outputs": [],
   "execution_count": 75
  },
  {
   "metadata": {
    "ExecuteTime": {
     "end_time": "2025-09-25T15:32:09.228380Z",
     "start_time": "2025-09-25T15:32:09.077625Z"
    }
   },
   "cell_type": "code",
   "source": [
    "# Chunk 10: full pipeline test\n",
    "df = fetch_fashion_data(limit=100)\n",
    "predictor = TrendPredictor().train(df)\n",
    "df = predict_missing_scores(df, predictor)\n",
    "\n",
    "forecast_agent = ForecastAgent()\n",
    "forecast_agent = train_forecast(df, forecast_agent)\n",
    "df_forecast = forecast_trends(df, forecast_agent)\n",
    "\n",
    "direction_agent = TrendDirectionAgent()\n",
    "df = direction_agent.compute_direction(df, score_column='predicted_trend_score')\n",
    "\n",
    "# show combined results\n",
    "df_final = df.merge(df_forecast, on='trend_name', how='left')\n",
    "print(df_final[['trend_name','predicted_trend_score','forecasted_trend_score','trend_direction']].head(20))\n"
   ],
   "id": "3785b75c2c728f8e",
   "outputs": [
    {
     "name": "stdout",
     "output_type": "stream",
     "text": [
      "    trend_name  predicted_trend_score  forecasted_trend_score trend_direction\n",
      "0   bucket hat               0.707545                0.672959          stable\n",
      "1   bucket hat               0.707545                0.595618          stable\n",
      "2   bucket hat               0.707545                0.629346          stable\n",
      "3   bucket hat               0.707545                0.481539          stable\n",
      "4   bucket hat               0.707545                0.644070          stable\n",
      "5   bucket hat               0.707545                0.034200          stable\n",
      "6   bucket hat               0.707545                0.113744          stable\n",
      "7   bucket hat               0.596412                0.672959            down\n",
      "8   bucket hat               0.596412                0.595618            down\n",
      "9   bucket hat               0.596412                0.629346            down\n",
      "10  bucket hat               0.596412                0.481539            down\n",
      "11  bucket hat               0.596412                0.644070            down\n",
      "12  bucket hat               0.596412                0.034200            down\n",
      "13  bucket hat               0.596412                0.113744            down\n",
      "14  bucket hat               0.651807                0.672959              up\n",
      "15  bucket hat               0.651807                0.595618              up\n",
      "16  bucket hat               0.651807                0.629346              up\n",
      "17  bucket hat               0.651807                0.481539              up\n",
      "18  bucket hat               0.651807                0.644070              up\n",
      "19  bucket hat               0.651807                0.034200              up\n"
     ]
    },
    {
     "name": "stderr",
     "output_type": "stream",
     "text": [
      "/var/folders/vf/rbbd31d52x71bpbg3sn62p3r0000gn/T/ipykernel_26490/322390788.py:35: FutureWarning: Downcasting object dtype arrays on .fillna, .ffill, .bfill is deprecated and will change in a future version. Call result.infer_objects(copy=False) instead. To opt-in to the future behavior, set `pd.set_option('future.no_silent_downcasting', True)`\n",
      "  df = df.fillna(0)\n",
      "/var/folders/vf/rbbd31d52x71bpbg3sn62p3r0000gn/T/ipykernel_26490/322390788.py:35: FutureWarning: Downcasting object dtype arrays on .fillna, .ffill, .bfill is deprecated and will change in a future version. Call result.infer_objects(copy=False) instead. To opt-in to the future behavior, set `pd.set_option('future.no_silent_downcasting', True)`\n",
      "  df = df.fillna(0)\n"
     ]
    }
   ],
   "execution_count": 76
  },
  {
   "metadata": {
    "ExecuteTime": {
     "end_time": "2025-09-25T15:33:29.892718Z",
     "start_time": "2025-09-25T15:33:29.880283Z"
    }
   },
   "cell_type": "code",
   "source": [
    "# Chunk 11: compute overall trend direction per trend\n",
    "def compute_overall_direction(df, predicted_col='predicted_trend_score', forecast_col='forecasted_trend_score',\n",
    "                              up_threshold=0.01, down_threshold=-0.01):\n",
    "    # Aggregate: mean predicted & forecasted score per trend\n",
    "    agg = df.groupby('trend_name').agg({\n",
    "        predicted_col: 'mean',\n",
    "        forecast_col: 'mean'\n",
    "    }).reset_index()\n",
    "\n",
    "    # Compute difference\n",
    "    agg['score_change'] = agg[forecast_col] - agg[predicted_col]\n",
    "\n",
    "    # Assign overall trend\n",
    "    agg['trend_direction'] = agg['score_change'].apply(\n",
    "        lambda x: 'up' if x > up_threshold else ('down' if x < down_threshold else 'stable')\n",
    "    )\n",
    "    return agg[['trend_name', predicted_col, forecast_col, 'trend_direction']]\n"
   ],
   "id": "ccf2550b7e26c21c",
   "outputs": [],
   "execution_count": 77
  },
  {
   "metadata": {
    "ExecuteTime": {
     "end_time": "2025-09-25T15:33:37.195167Z",
     "start_time": "2025-09-25T15:33:37.177003Z"
    }
   },
   "cell_type": "code",
   "source": [
    "# Chunk 12: apply overall trend computation\n",
    "df_overall = compute_overall_direction(df_final)\n",
    "print(df_overall.sort_values(by='forecasted_trend_score', ascending=False).head(20))\n"
   ],
   "id": "f6f05096495d683a",
   "outputs": [
    {
     "name": "stdout",
     "output_type": "stream",
     "text": [
      "          trend_name  predicted_trend_score  forecasted_trend_score  \\\n",
      "8      sneaker trend               0.538961                0.537876   \n",
      "2     denim overalls               0.528771                0.521706   \n",
      "7        plaid skirt               0.457547                0.471404   \n",
      "9  streetwear hoodie               0.475522                0.465730   \n",
      "1           crop top               0.458692                0.455801   \n",
      "5        neon colors               0.461049                0.453536   \n",
      "0         bucket hat               0.471188                0.453068   \n",
      "4      leather boots               0.452066                0.449230   \n",
      "6   oversized jacket               0.428814                0.426518   \n",
      "3       floral dress               0.380885                0.402906   \n",
      "\n",
      "  trend_direction  \n",
      "8          stable  \n",
      "2          stable  \n",
      "7              up  \n",
      "9          stable  \n",
      "1          stable  \n",
      "5          stable  \n",
      "0            down  \n",
      "4          stable  \n",
      "6          stable  \n",
      "3              up  \n"
     ]
    }
   ],
   "execution_count": 78
  }
 ],
 "metadata": {
  "kernelspec": {
   "display_name": "Python 3",
   "language": "python",
   "name": "python3"
  },
  "language_info": {
   "codemirror_mode": {
    "name": "ipython",
    "version": 2
   },
   "file_extension": ".py",
   "mimetype": "text/x-python",
   "name": "python",
   "nbconvert_exporter": "python",
   "pygments_lexer": "ipython2",
   "version": "2.7.6"
  }
 },
 "nbformat": 4,
 "nbformat_minor": 5
}
